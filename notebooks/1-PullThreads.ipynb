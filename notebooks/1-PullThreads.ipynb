{
 "cells": [
  {
   "cell_type": "markdown",
   "id": "f7c55fe5",
   "metadata": {},
   "source": [
    "# API - Pull Threads\n",
    "----"
   ]
  },
  {
   "cell_type": "code",
   "execution_count": 1,
   "id": "8698f557",
   "metadata": {},
   "outputs": [],
   "source": [
    "import numpy as np\n",
    "\n",
    "import os\n",
    "import datetime\n",
    "import time\n",
    "import json\n",
    "import requests"
   ]
  },
  {
   "cell_type": "markdown",
   "id": "87120488",
   "metadata": {},
   "source": [
    "# API Setup\n",
    "----\n",
    "API access was set up using the information provided by James Briggs from this video tutorial:\n",
    "\n",
    "https://www.youtube.com/watch?v=FdjVoOf9HN4&ab_channel=JamesBriggs"
   ]
  },
  {
   "cell_type": "markdown",
   "id": "84f8717f",
   "metadata": {},
   "source": [
    "# Function Definitions\n",
    "----"
   ]
  },
  {
   "cell_type": "markdown",
   "id": "98ab697a",
   "metadata": {},
   "source": [
    "### API Access\n",
    "----\n",
    "The base reddit API requires authentication and login. In the future PRAW could be used to avoid this authentication requirement.\n",
    "\n",
    "This function is required to be run within an hour of any API requests."
   ]
  },
  {
   "cell_type": "code",
   "execution_count": 2,
   "id": "90ddcf60",
   "metadata": {},
   "outputs": [],
   "source": [
    "def authorize():\n",
    "    \"\"\"Used to Authorize Access to the API\"\"\"\n",
    "    global headers\n",
    "    \n",
    "    #Get the various passwords from the hidden password directory file\n",
    "    with open(\"password_directory.ini\", \"r\") as f:\n",
    "        lines = f.read().splitlines()\n",
    "    KEYS = {line.split(\":\")[0]:line.split(\":\")[1] for line in lines}\n",
    "    \n",
    "    #Key Variables Required for Auth Requests\n",
    "    CLIENT_ID = KEYS[\"CLIENT_ID\"]\n",
    "    SECRET_KEY = KEYS[\"SECRET_KEY\"]\n",
    "\n",
    "    #Init Authorization Request\n",
    "    auth = requests.auth.HTTPBasicAuth(KEYS[\"CLIENT_ID\"], KEYS[\"SECRET_KEY\"])\n",
    "    headers = {\"User-Agent\": \"MyAPI/0.0.1\"}\n",
    "    \n",
    "    #Account Settings\n",
    "    data = {\n",
    "        \"grant_type\" : \"password\",\n",
    "        \"username\" : KEYS[\"USERNAME\"],\n",
    "        \"password\" : KEYS[\"PASSWORD\"]\n",
    "    }\n",
    "    \n",
    "    #Request Authorization\n",
    "    res = requests.post(\"https://www.reddit.com/api/v1/access_token\",\n",
    "                        auth=auth, data=data, headers=headers)\n",
    "    if not res.ok:\n",
    "        print(f\"**Warning!** Response: {res}\")\n",
    "    else:\n",
    "        print(f\"Response: {res}\")\n",
    "        \n",
    "    TOKEN = res.json()[\"access_token\"]\n",
    "    headers[\"authorization\"] = f\"bearer {TOKEN}\"\n",
    "    print(headers[\"authorization\"])"
   ]
  },
  {
   "cell_type": "markdown",
   "id": "e99120f3",
   "metadata": {},
   "source": [
    "### Folder Names\n",
    "----\n",
    "Opting to keep pulls organised in folders based on days and the file names to include the hour which they were pulled. The following functions, while simple, allowed the rest of the notebook to be more readable.\n",
    "\n",
    "Hindsight: The file names should have been a TimeStamp instead of an hour interval."
   ]
  },
  {
   "cell_type": "code",
   "execution_count": 3,
   "id": "7f9706b9",
   "metadata": {},
   "outputs": [],
   "source": [
    "def generate_folder_dir():\n",
    "    \"\"\"Generates a folder directory string\n",
    "    Example Folder Directory Format:\n",
    "    ./data/json/YYYY-MM-DD/\"\"\"\n",
    "    \n",
    "    folder = str(datetime.datetime.now()).split()[0]\n",
    "    return f\"./data/json/{folder}/\""
   ]
  },
  {
   "cell_type": "code",
   "execution_count": 4,
   "id": "5ad03720",
   "metadata": {},
   "outputs": [],
   "source": [
    "def generate_file_name():\n",
    "    \"\"\"Generates a file name string\n",
    "    Example File Name Format:\n",
    "    YYYY-MM-DD-HH\"\"\"\n",
    "    \n",
    "    return str(datetime.datetime.now()).split(\":\")[0].replace(\" \", \"-\")"
   ]
  },
  {
   "cell_type": "markdown",
   "id": "9b298892",
   "metadata": {},
   "source": [
    "### API Pull Request\n",
    "----\n",
    "This function navigates the API determining the URL to pull from based on the number of threads requested.\n",
    "\n",
    "Prints a status update to the console every 500 threads pulled and a notice of completion with a timestamp."
   ]
  },
  {
   "cell_type": "code",
   "execution_count": 5,
   "id": "0801f34f",
   "metadata": {},
   "outputs": [],
   "source": [
    "def pull_threads(number_of_threads):\n",
    "    \"\"\"Function to pull a number of threads in json format from r/popular\n",
    "    Threads must be divisible by 25. If the number entered is not then it will be\n",
    "    rounded up to the next <brain fart> of 25\"\"\"\n",
    "    \n",
    "    #Variable Declarations. after and count are used in url generation\n",
    "    pages = []\n",
    "    after = \"\"\n",
    "    count = 0\n",
    "    \n",
    "    #forces number_of_threads to be evenly divisble by 25. Always goes up in value\n",
    "    if (number_of_threads % 25) != 0:\n",
    "        number_of_threads = number_of_threads + (25 - (number_of_threads % 25))\n",
    "\n",
    "    #Make sure the program is authorized to access the API\n",
    "    authorize()\n",
    "    print(f\"Pulling {number_of_threads} at {datetime.datetime.now()}\")\n",
    "    \n",
    "    #This basically increases 25 per iteration until reaching the #\n",
    "    while(count < number_of_threads):\n",
    "        #Status Update every 500 threads\n",
    "        if count % 500 == 0:\n",
    "            print(f\"Pulling thread {count}\")\n",
    "            \n",
    "        #define the url.    \n",
    "        url = f\"https://oauth.reddit.com/r/popular/?count={count}&after={after}\"\n",
    "        try:\n",
    "            pages.append(requests.get(url, headers=headers).json())\n",
    "            \n",
    "        #in the event the request fails the status code should hint of the issue\n",
    "        except:\n",
    "            print(f\"Failed to Authorize: {requests.get(url, headers=headers).status_code}\")\n",
    "            break\n",
    "        \n",
    "        #define the next page url values\n",
    "        after = pages[-1][\"data\"][\"after\"]\n",
    "        count += pages[-1][\"data\"][\"dist\"]\n",
    "    print(f\"Finished pulling {number_of_threads} threads at {datetime.datetime.now()}\")\n",
    "    #pause to not overload server.\n",
    "    time.sleep(1)\n",
    "    return pages"
   ]
  },
  {
   "cell_type": "markdown",
   "id": "473ffbc7",
   "metadata": {},
   "source": [
    "### Output\n",
    "----\n",
    "Output to a folder and file based on current date and time."
   ]
  },
  {
   "cell_type": "code",
   "execution_count": 6,
   "id": "55acb699",
   "metadata": {},
   "outputs": [],
   "source": [
    "def output_data(thread_data):\n",
    "    \"\"\"Outputs thread data in json format\n",
    "    Directory Example:\n",
    "    ./data/json/{folder}/{file}\n",
    "    folder = YYYY-MM-DD\n",
    "    file = YYYY-MM-DD-HH\"\"\"\n",
    "    \n",
    "    #Decleare the folder and file directory names\n",
    "    folder_dir = generate_folder_dir()\n",
    "    file_dir = folder_dir + generate_file_name()\n",
    "    \n",
    "    #Create a new folder for the day if one does not exist\n",
    "    if not os.path.exists(os.path.dirname(folder_dir)):\n",
    "        try:\n",
    "            os.mkdir(folder_dir)\n",
    "        except:\n",
    "            print(\"Error: Something went wrong.\")\n",
    "\n",
    "    #Output the thread_data in json format\n",
    "    with open(file_dir, \"w\") as outfile:\n",
    "        json.dump(thread_data, outfile)"
   ]
  },
  {
   "cell_type": "markdown",
   "id": "b0ee9341",
   "metadata": {},
   "source": [
    "### Sleep\n",
    "----\n",
    "Sleeping uses less resources than a traditional loop. As the plan was to have automated pulls based on a time interval sleeping for a set time was imperative to reduce the drain on the computer resources.\n",
    "\n",
    "It is worth noting that `time.sleep(int seconds)` operates in seconds while timedelta is accurate to the nanosecond. As such 1 Second had to be added to the sleep duration to avoid overlap caused by rounding/truncating.\n",
    "\n",
    "**Note:** Function only adjusts date to tomorrow if the final interval is exactly 24:00. Other intervals can be used but the operation will need to be reset after midnight."
   ]
  },
  {
   "cell_type": "code",
   "execution_count": 7,
   "id": "fae99e89",
   "metadata": {},
   "outputs": [],
   "source": [
    "def determine_seconds_to_sleep(interval):\n",
    "    \"\"\"Determines the seconds until the next hour interval.\n",
    "    e.g. if the interval is 4 it will determine the seconds until\n",
    "    4, 8, 12, 16, 20 or 24\n",
    "    NOTE: Function will not work multple days if 24 is not evenly divisible by the interval\"\"\"\n",
    "    #returns an array of target times (in seconds) based on the interval\n",
    "    target_times = [x * 3600 for x in range(0,25, interval)]\n",
    "    \n",
    "    #current time in seconds\n",
    "    current_time = (datetime.datetime.now().hour * 3600 +\n",
    "                    datetime.datetime.now().minute * 60 +\n",
    "                    datetime.datetime.now().second)\n",
    "    \n",
    "    #index for target_time. This is the (current time in min / interval in min) rounded up\n",
    "    index = int(np.ceil((datetime.datetime.now().hour * 60 + datetime.datetime.now().minute)\n",
    "                        / (interval * 60)))\n",
    "    \n",
    "    #if the index is the last value (24:00) then make the target_time is 00:00 tomorrow\n",
    "    #Add 1 second to either return to account for milliseconds\n",
    "    if index == len(target_times) - 1:\n",
    "        tomorrow = datetime.datetime.today() + datetime.timedelta(days=1)\n",
    "        target_time = datetime.datetime.combine(tomorrow, datetime.datetime.min.time())\n",
    "        return (target_time - datetime.datetime.now()).seconds + 1\n",
    "    #else return the next interval\n",
    "    return target_times[index] - current_time + 1"
   ]
  },
  {
   "cell_type": "code",
   "execution_count": 8,
   "id": "b971793e",
   "metadata": {},
   "outputs": [],
   "source": [
    "def convert_seconds(seconds):\n",
    "    \"\"\"Returns a tuple of (hours, minutes) for use in printing output to the console.\"\"\"\n",
    "    str_seconds = str(seconds/3600).split(\".\")\n",
    "    hours = int(str_seconds[0])\n",
    "    minutes = int(float(f\".{str_seconds[1]}\") * 60)\n",
    "    return (hours, minutes)"
   ]
  },
  {
   "cell_type": "markdown",
   "id": "274db810",
   "metadata": {},
   "source": [
    "### Main Function\n",
    "----\n",
    "Pulls 2,000 threads every 4 hours as set up in this Notebook and runs until 1/6/2022."
   ]
  },
  {
   "cell_type": "code",
   "execution_count": 9,
   "id": "0c250948",
   "metadata": {},
   "outputs": [],
   "source": [
    "def main():\n",
    "    #Initial Variable Declarations\n",
    "    number_of_threads = 2000\n",
    "    INTERVAL = 4\n",
    "    already_pulled = False\n",
    "\n",
    "    #Until Jan 5, 2021\n",
    "    while(datetime.date.today() < datetime.date(2022,1,6)):\n",
    "        #Boolean: is current hour a desired interval?\n",
    "        is_interval = (datetime.datetime.now().hour % INTERVAL) == 0\n",
    "        \n",
    "        #Decleare the folder and file directory names\n",
    "        folder_dir = generate_folder_dir()\n",
    "        file_dir = folder_dir + generate_file_name()\n",
    "        #If file already exists, do not pull again\n",
    "        if os.path.exists(file_dir):\n",
    "            already_pulled = True\n",
    "            sleep_seconds = determine_seconds_to_sleep(INTERVAL)\n",
    "            hours, minutes = convert_seconds(sleep_seconds)\n",
    "            print(\"Threads already pulled.\")\n",
    "            print(f\"Sleeping for {hours} hours and {minutes} minutes\")\n",
    "            time.sleep(sleep_seconds)\n",
    "            already_pulled = False\n",
    "\n",
    "        #If not already pulled or and a pull interval, pull\n",
    "        elif (not already_pulled) and is_interval:\n",
    "            threads = pull_threads(number_of_threads)\n",
    "            output_data(threads)\n",
    "            already_pulled = True\n",
    "            time.sleep(120)\n",
    "            \n",
    "            #Sleep\n",
    "            sleep_seconds = determine_seconds_to_sleep(INTERVAL)\n",
    "            hours, minutes = convert_seconds(sleep_seconds)\n",
    "            print(f\"Sleeping for {hours} hours and {minutes} minutes\")\n",
    "            time.sleep(sleep_seconds)\n",
    "            #reset already_pulled after sleep\n",
    "            already_pulled = False\n",
    "        \n",
    "        #if not an interval, sleep\n",
    "        elif not is_interval:\n",
    "            sleep_seconds = determine_seconds_to_sleep(INTERVAL)\n",
    "            hours, minutes = convert_seconds(sleep_seconds)\n",
    "            print(f\"Not a time interval of {INTERVAL}\")\n",
    "            print(f\"Sleeping for {hours} hours and {minutes} minutes\")\n",
    "            time.sleep(sleep_seconds)\n",
    "            \n",
    "        else:\n",
    "            sleep_seconds = determine_seconds_to_sleep(INTERVAL)\n",
    "            print(f\"This shouldn't happen. Debug\")\n",
    "            time.sleep(sleep_seconds)"
   ]
  },
  {
   "cell_type": "markdown",
   "id": "d8046caf",
   "metadata": {},
   "source": [
    "# Main\n",
    "----\n",
    "This Notebook was used to design and test the executable python file titled `pull_threads_executable.py`.\n",
    "\n",
    "The main function is commented out within the this Notebook to avoid crossing the streams and causing total protonic reversal. Please run main() from the executable file and use this Notebook for additional reference and development if necessary."
   ]
  },
  {
   "cell_type": "code",
   "execution_count": 10,
   "id": "9026d2b1",
   "metadata": {},
   "outputs": [
    {
     "data": {
      "text/plain": [
       "'This is to be run in the executable py file'"
      ]
     },
     "execution_count": 10,
     "metadata": {},
     "output_type": "execute_result"
    }
   ],
   "source": [
    "\"\"\"if __name__ == \"__main__\":\n",
    "    main()\"\"\"\n",
    "    \n",
    "\"\"\"This is to be run in the executable py file\"\"\""
   ]
  }
 ],
 "metadata": {
  "kernelspec": {
   "display_name": "Python 3",
   "language": "python",
   "name": "python3"
  },
  "language_info": {
   "codemirror_mode": {
    "name": "ipython",
    "version": 3
   },
   "file_extension": ".py",
   "mimetype": "text/x-python",
   "name": "python",
   "nbconvert_exporter": "python",
   "pygments_lexer": "ipython3",
   "version": "3.8.8"
  }
 },
 "nbformat": 4,
 "nbformat_minor": 5
}
